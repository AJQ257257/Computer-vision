{
 "cells": [
  {
   "cell_type": "code",
   "execution_count": null,
   "metadata": {},
   "outputs": [],
   "source": [
    "from skimage.io import imread, imshow\n",
    "from skimage import transform\n",
    "import matplotlib.pyplot as plt\n",
    "import numpy as np\n",
    "\n",
    "chess = imread('chess.png')\n",
    "imshow(chess)\n",
    "\n",
    "#source coordinates\n",
    "src = np.array([391, 100, \n",
    "                14, 271,\n",
    "                347, 624,\n",
    "                747, 298,]).reshape((4, 2))\n",
    "#destination coordinates\n",
    "dst = np.array([100, 100, \n",
    "                100, 650,\n",
    "                650, 650,\n",
    "                650, 100,]).reshape((4, 2))\n",
    "#using skimage’s transform module where ‘projective’ is our desired parameter\n",
    "tform = transform.estimate_transform('projective', src, dst)\n",
    "tf_img = transform.warp(chess, tform.inverse)\n",
    "#plotting the transformed image\n",
    "fig, ax = plt.subplots()\n",
    "ax.imshow(tf_img)\n",
    "_ = ax.set_title('projective transformation')\n"
   ]
  }
 ],
 "metadata": {
  "language_info": {
   "name": "python"
  },
  "orig_nbformat": 4
 },
 "nbformat": 4,
 "nbformat_minor": 2
}
