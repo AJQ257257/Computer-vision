{
 "cells": [
  {
   "cell_type": "code",
   "execution_count": null,
   "metadata": {},
   "outputs": [],
   "source": [
    "from skimage.io import imread, imshow\n",
    "from skimage import transform\n",
    "import matplotlib.pyplot as plt\n",
    "import numpy as np\n",
    "\n",
    "still2 = imread('still2.png')\n",
    "imshow(still2)\n",
    "court = imread('court.png')\n",
    "plt.imshow(court)\n",
    "\n",
    "src_2 = np.array([440, 470,\n",
    "                  10, 750,\n",
    "                  1190, 490,\n",
    "                  1195, 785,]).reshape((4, 2))\n",
    "dst_2 = np.array([3, 7,\n",
    "                  3, 506,\n",
    "                  447, 7,\n",
    "                  447, 506,]).reshape((4, 2))\n",
    "fig, ax = plt.subplots(3, 1, figsize=(25, 15))\n",
    "ax[0].imshow(still2, )\n",
    "ax[0].scatter(src_2[:,0], src_2[:,1], c='red', s=30)\n",
    "ax[0].set_title('source coordinates')\n",
    "ax[1].imshow(court)\n",
    "ax[1].scatter(dst_2[:,0], dst_2[:,1], c='red', s=30)\n",
    "ax[1].set_title('destination coordinates')\n",
    "dst_2 = dst_2*2 #because image sizes are not the same.\n",
    "tform = transform.estimate_transform('projective', src_2, dst_2)\n",
    "tf_img = transform.warp(still2, tform.inverse)\n",
    "ax[2].imshow(tf_img)\n",
    "ax[2].scatter(dst_2[:,0], dst_2[:,1], c='red', s=10)"
   ]
  }
 ],
 "metadata": {
  "language_info": {
   "name": "python"
  },
  "orig_nbformat": 4
 },
 "nbformat": 4,
 "nbformat_minor": 2
}
