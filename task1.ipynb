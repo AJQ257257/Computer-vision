{
 "cells": [
  {
   "cell_type": "code",
   "execution_count": 3,
   "metadata": {},
   "outputs": [
    {
     "ename": "error",
     "evalue": "OpenCV(4.6.0) C:\\b\\abs_74oeeuevib\\croots\\recipe\\opencv-suite_1664548340488\\work\\modules\\imgproc\\src\\color.cpp:182: error: (-215:Assertion failed) !_src.empty() in function 'cv::cvtColor'\n",
     "output_type": "error",
     "traceback": [
      "\u001b[1;31m---------------------------------------------------------------------------\u001b[0m",
      "\u001b[1;31merror\u001b[0m                                     Traceback (most recent call last)",
      "Cell \u001b[1;32mIn[3], line 13\u001b[0m\n\u001b[0;32m     10\u001b[0m left_image \u001b[39m=\u001b[39m cv2\u001b[39m.\u001b[39mimread(left_path)\n\u001b[0;32m     11\u001b[0m right_image \u001b[39m=\u001b[39m cv2\u001b[39m.\u001b[39mimread(right_path)\n\u001b[1;32m---> 13\u001b[0m left_gray_image \u001b[39m=\u001b[39m cv2\u001b[39m.\u001b[39;49mcvtColor(left_image, cv2\u001b[39m.\u001b[39;49mTHRESH_BINARY)\n\u001b[0;32m     14\u001b[0m right_gray_image \u001b[39m=\u001b[39m cv2\u001b[39m.\u001b[39mcvtColor(right_image, cv2\u001b[39m.\u001b[39mTHRESH_BINARY)\n\u001b[0;32m     16\u001b[0m \u001b[39m# 创建SIFT对象\u001b[39;00m\n",
      "\u001b[1;31merror\u001b[0m: OpenCV(4.6.0) C:\\b\\abs_74oeeuevib\\croots\\recipe\\opencv-suite_1664548340488\\work\\modules\\imgproc\\src\\color.cpp:182: error: (-215:Assertion failed) !_src.empty() in function 'cv::cvtColor'\n"
     ]
    }
   ],
   "source": [
    "import numpy as np\n",
    "import matplotlib as plt\n",
    "from PIL import Image\n",
    "import cv2\n",
    "\n",
    "# 读入图像并转为灰度图\n",
    "left_path = './image_stitching/left_1.jpg'\n",
    "right_path = './image_stitching/right_1.jpg'\n",
    "\n",
    "left_image = cv2.imread(left_path)\n",
    "right_image = cv2.imread(right_path)\n",
    "\n",
    "left_gray_image = cv2.cvtColor(left_image, cv2.THRESH_BINARY)\n",
    "right_gray_image = cv2.cvtColor(right_image, cv2.THRESH_BINARY)\n",
    "\n",
    "# 创建SIFT对象\n",
    "sift = cv2.SIFT_create()\n",
    "# 求解特征点和特征向量\n",
    "kpsA, dpA = sift.detectAndCompute(left_gray_image, None)\n",
    "kpsB, dpB = sift.detectAndCompute(right_gray_image, None)\n",
    "\n",
    "# 构造BFMacher对象\n",
    "bf = cv2.BFMatcher()\n",
    "\n",
    "# 用knnMatch方法进行关键点多点匹配\n",
    "matches = bf.knnMatch(dpA, dpB, k=2)\n",
    "\n",
    "# 去除不可靠匹配\n",
    "# 1）新建一个空列表good_matches\n",
    "good_matches = []\n",
    "# 2）遍历matches，如果第一对点的欧氏距离小于k倍第二对点的欧氏距离则说明第一对点匹配可靠，将这对点的索引号追加到good_matches\n",
    "for m in matches:\n",
    "    if len(m) == 2 and m[0].distance < 0.4 * m[1].distance:\n",
    "        good_matches.append((m[0].queryIdx, m[0].trainIdx))\n",
    "\n",
    "# 寻得可靠匹配点并转换类型\n",
    "# 1)将keypoint的pt属性（关键点坐标）赋值给kps\n",
    "kps1 = np.float32([kp.pt for kp in kpsA])\n",
    "kps2 = np.float32([kp.pt for kp in kpsB])\n",
    "\n",
    "# 2)将根据good_matches匹配好的序号，将kps1和kps2对应排序\n",
    "kps1 = np.float32([kps1[a[0]] for a in good_matches])\n",
    "kps2 = np.float32([kps2[a[1]] for a in good_matches])\n",
    "\n",
    "# 求解转换矩阵\n",
    "M, status = cv2.findHomography(kps2, kps1, cv2.RANSAC, 4.0)  # M未变换矩阵\n",
    "\n",
    "# 图像空间变换\n",
    "result = cv2.warpPerspective(right_image, M, (left_image.shape[1] + right_image.shape[1], right_image.shape[0]))\n",
    "\n",
    "# 图像拼接\n",
    "# 将变换后的图像对应要拼接原图像的地方用原图像覆盖。\n",
    "result[0:left_image.shape[0], 0:left_image.shape[1]] = left_image\n",
    "\n",
    "# 显示结果\n",
    "cv2.imshow(\"left\", left_image)\n",
    "cv2.imshow(\"right\", right_image)\n",
    "cv2.imshow(\"result\", result)\n",
    "cv2.waitKey(0)\n",
    "cv2.destroyAllWindows()\n",
    "\n",
    "\n",
    "\n",
    "\n",
    "\n",
    "\n",
    "\n",
    "\n"
   ]
  }
 ],
 "metadata": {
  "kernelspec": {
   "display_name": "base",
   "language": "python",
   "name": "python3"
  },
  "language_info": {
   "codemirror_mode": {
    "name": "ipython",
    "version": 3
   },
   "file_extension": ".py",
   "mimetype": "text/x-python",
   "name": "python",
   "nbconvert_exporter": "python",
   "pygments_lexer": "ipython3",
   "version": "3.9.12"
  },
  "orig_nbformat": 4
 },
 "nbformat": 4,
 "nbformat_minor": 2
}
