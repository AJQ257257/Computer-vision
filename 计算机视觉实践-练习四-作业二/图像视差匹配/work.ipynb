{
 "cells": [
  {
   "cell_type": "code",
   "execution_count": null,
   "metadata": {},
   "outputs": [],
   "source": [
    "from PIL import Image\n",
    "from pylab import *\n",
    "import cv2\n",
    "from numpy import *\n",
    "from numpy.ma import array\n",
    "from scipy.ndimage import filters\n",
    "np.seterr(divide='ignore', invalid='ignore')\n",
    "def plane_sweep_ncc(im_l,im_r,start,steps,wid):\n",
    "    \"\"\" 使用归一化的互相关计算视差图像 \"\"\"\n",
    "    m,n = im_l.shape\n",
    "    # 保存不同求和值的数组\n",
    "    mean_l = zeros((m,n))\n",
    "    mean_r = zeros((m,n))\n",
    "    s = zeros((m,n))\n",
    "    s_l = zeros((m,n))\n",
    "    s_r = zeros((m,n))\n",
    "    # 保存深度平面的数组\n",
    "    dmaps = zeros((m,n,steps))\n",
    "    # 计算图像块的平均值\n",
    "    filters.uniform_filter(im_l,wid,mean_l)\n",
    "    filters.uniform_filter(im_r,wid,mean_r)\n",
    "    # 归一化图像\n",
    "    norm_l = im_l - mean_l\n",
    "    norm_r = im_r - mean_r\n",
    "    # 尝试不同的视差\n",
    "    for displ in range(steps):\n",
    "        # 将左边图像移动到右边，计算加和\n",
    "        filters.uniform_filter(np.roll(norm_l, -displ - start) * norm_r, wid, s) # 和归一化\n",
    "        filters.uniform_filter(np.roll(norm_l, -displ - start) * np.roll(norm_l, -displ - start), wid, s_l)\n",
    "        filters.uniform_filter(norm_r*norm_r,wid,s_r) # 和反归一化\n",
    "        # 保存 ncc 的分数\n",
    "        dmaps[:,:,displ] = s / sqrt(s_l * s_r)\n",
    "        # 为每个像素选取最佳深度\n",
    "    return np.argmax(dmaps, axis=2)\n",
    "\n",
    "\n",
    "im_l = array(Image.open(r'D:/computervisionpicture/left.jpg').convert('L'), 'f')\n",
    "im_r = array(Image.open(r'D:/computervisionpicture/right.jpg').convert('L'),'f')\n",
    "# 开始偏移，并设置步长\n",
    "steps = 12\n",
    "start = 4\n",
    "# ncc 的宽度\n",
    "wid = 12\n",
    "res = plane_sweep_ncc(im_l,im_r,start,steps,wid)\n",
    "import scipy.misc\n",
    "scipy.misc.imsave('D:/computervisionpicture/depth.jpg',res)\n",
    "show()"
   ]
  }
 ],
 "metadata": {
  "language_info": {
   "name": "python"
  },
  "orig_nbformat": 4
 },
 "nbformat": 4,
 "nbformat_minor": 2
}
